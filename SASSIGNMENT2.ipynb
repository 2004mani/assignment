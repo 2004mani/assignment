{
 "cells": [
  {
   "cell_type": "code",
   "execution_count": 7,
   "id": "4f17fedf",
   "metadata": {},
   "outputs": [
    {
     "name": "stdout",
     "output_type": "stream",
     "text": [
      "fibonacci series are:\n",
      "0\n",
      "1\n",
      "1\n",
      "2\n",
      "3\n",
      "5\n",
      "8\n",
      "13\n",
      "21\n",
      "34\n",
      "\n"
     ]
    }
   ],
   "source": [
    "x=0\n",
    "y=1\n",
    "print(\"fibonacci series are:\")\n",
    "print(x)\n",
    "while(y<=50):\n",
    "    print(y)\n",
    "    x,y=y,x+y\n",
    "print()\n",
    "    \n",
    "   \n",
    "  \n",
    "  \n",
    "    "
   ]
  },
  {
   "cell_type": "code",
   "execution_count": 10,
   "id": "fff94ce5",
   "metadata": {},
   "outputs": [
    {
     "name": "stdout",
     "output_type": "stream",
     "text": [
      "enter a value234\n",
      "the given number is not armstrong number\n"
     ]
    }
   ],
   "source": [
    "n=int(input(\"enter a value\"))\n",
    "t=n\n",
    "sum=0\n",
    "while n>0:\n",
    "    r=n%10\n",
    "    n=n//10\n",
    "    sum=sum+(r**3)\n",
    "if t==sum:\n",
    "    print(\"the given number is armstrong number\")\n",
    "else:\n",
    "    print(\"the given number is not armstrong number\")"
   ]
  },
  {
   "cell_type": "code",
   "execution_count": 11,
   "id": "10bcf2e4",
   "metadata": {},
   "outputs": [
    {
     "name": "stdout",
     "output_type": "stream",
     "text": [
      "Number of even numbers: 4\n",
      "Number of even numbers: 5\n"
     ]
    }
   ],
   "source": [
    "l=list(range(1,10))\n",
    "o=0\n",
    "e=0\n",
    "for i in l:\n",
    "    if i%2==1:\n",
    "        o+=1\n",
    "    else:\n",
    "        e+=1\n",
    "print(\"Number of even numbers:\",e)\n",
    "print(\"Number of even numbers:\",o)\n",
    "    \n",
    "    \n",
    "    "
   ]
  },
  {
   "cell_type": "code",
   "execution_count": 13,
   "id": "cbb5c787",
   "metadata": {},
   "outputs": [
    {
     "name": "stdout",
     "output_type": "stream",
     "text": [
      "0 1 2 4 5 \n"
     ]
    }
   ],
   "source": [
    "for i in range(0,7):\n",
    "    if i==3 or i==6:\n",
    "        continue\n",
    "    print(i,end=\" \")\n",
    "print()"
   ]
  },
  {
   "cell_type": "code",
   "execution_count": 16,
   "id": "f6e29a59",
   "metadata": {},
   "outputs": [
    {
     "name": "stdout",
     "output_type": "stream",
     "text": [
      "FizzBuzz\n",
      "1\n",
      "2\n",
      "fizz\n",
      "4\n",
      "buzz\n",
      "fizz\n",
      "7\n",
      "8\n",
      "fizz\n",
      "buzz\n",
      "11\n",
      "fizz\n",
      "13\n",
      "14\n",
      "FizzBuzz\n",
      "16\n",
      "17\n",
      "fizz\n",
      "19\n",
      "buzz\n",
      "fizz\n",
      "22\n",
      "23\n",
      "fizz\n",
      "buzz\n",
      "26\n",
      "fizz\n",
      "28\n",
      "29\n",
      "FizzBuzz\n",
      "31\n",
      "32\n",
      "fizz\n",
      "34\n",
      "buzz\n",
      "fizz\n",
      "37\n",
      "38\n",
      "fizz\n",
      "buzz\n",
      "41\n",
      "fizz\n",
      "43\n",
      "44\n",
      "FizzBuzz\n",
      "46\n",
      "47\n",
      "fizz\n",
      "49\n",
      "buzz\n"
     ]
    }
   ],
   "source": [
    "for i in range(51):\n",
    "    if i%3==0 and i%5==0:\n",
    "        print(\"FizzBuzz\")\n",
    "    elif i%3==0:\n",
    "        print(\"fizz\")\n",
    "    elif i%5==0:\n",
    "        print(\"buzz\")\n",
    "    else:\n",
    "        print(i)"
   ]
  },
  {
   "cell_type": "code",
   "execution_count": 35,
   "id": "03d1bebc",
   "metadata": {},
   "outputs": [
    {
     "name": "stdout",
     "output_type": "stream",
     "text": [
      "Input first number:15\n",
      "Input second number:26\n",
      "Input third number:29\n",
      "sorted list is: [15, 26, 29] length of the list is: 3\n",
      "26.0\n"
     ]
    }
   ],
   "source": [
    "a=int(input(\"Input first number:\"))\n",
    "b=int(input(\"Input second number:\"))\n",
    "c=int(input(\"Input third number:\"))\n",
    "f=[]\n",
    "f.extend((a,b,c))\n",
    "g=sorted(f)\n",
    "print(\"sorted list is:\",g,\"length of the list is:\",len(g))\n",
    "t=len(g)//2\n",
    "print(float(g[t]))\n",
    "\n",
    "    \n",
    "     \n",
    "        \n",
    "\n",
    "\n",
    "\n",
    "\n",
    "\n",
    "\n"
   ]
  },
  {
   "cell_type": "code",
   "execution_count": null,
   "id": "29e40b66",
   "metadata": {},
   "outputs": [],
   "source": []
  }
 ],
 "metadata": {
  "kernelspec": {
   "display_name": "Python 3 (ipykernel)",
   "language": "python",
   "name": "python3"
  },
  "language_info": {
   "codemirror_mode": {
    "name": "ipython",
    "version": 3
   },
   "file_extension": ".py",
   "mimetype": "text/x-python",
   "name": "python",
   "nbconvert_exporter": "python",
   "pygments_lexer": "ipython3",
   "version": "3.11.5"
  }
 },
 "nbformat": 4,
 "nbformat_minor": 5
}

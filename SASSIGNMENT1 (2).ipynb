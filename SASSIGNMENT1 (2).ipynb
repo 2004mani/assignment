{
 "cells": [
  {
   "cell_type": "code",
   "execution_count": 1,
   "id": "26948385",
   "metadata": {},
   "outputs": [
    {
     "name": "stdout",
     "output_type": "stream",
     "text": [
      "enter your value:5\n",
      "Odd\n"
     ]
    }
   ],
   "source": [
    "n=int(input(\"enter your value:\"))\n",
    "if n%2==0:\n",
    "    print(\"Even\")\n",
    "else:\n",
    "    print(\"Odd\")"
   ]
  },
  {
   "cell_type": "code",
   "execution_count": 2,
   "id": "21c44ed6",
   "metadata": {},
   "outputs": [
    {
     "name": "stdout",
     "output_type": "stream",
     "text": [
      "enter a value:-89\n",
      "Negitive\n"
     ]
    }
   ],
   "source": [
    "n=int(input(\"enter a value:\"))\n",
    "if n>0:\n",
    "    print(\"Positive\")\n",
    "else:\n",
    "    print(\"Negitive\")"
   ]
  },
  {
   "cell_type": "code",
   "execution_count": 3,
   "id": "f5b2cee9",
   "metadata": {},
   "outputs": [
    {
     "name": "stdout",
     "output_type": "stream",
     "text": [
      "1 2 3 4\n",
      "[4, 2, 3, 1]\n"
     ]
    }
   ],
   "source": [
    "l=list(map(int,input(\"enter your list of values:\").split()))\n",
    "t=l[0]\n",
    "l[0]=l[len(l)-1]\n",
    "l[len(l)-1]=t\n",
    "print(l)"
   ]
  },
  {
   "cell_type": "code",
   "execution_count": 7,
   "id": "f3086bac",
   "metadata": {},
   "outputs": [
    {
     "name": "stdout",
     "output_type": "stream",
     "text": [
      "enter your value:2 \n",
      "enter your value:3\n",
      "bigger value is b\n"
     ]
    }
   ],
   "source": [
    "a=int(input(\"enter your value:\"))\n",
    "b=int(input(\"enter your value:\"))\n",
    "if a>b:\n",
    "    print(\"bigger value is a\")\n",
    "if b>a:\n",
    "    print(\"bigger value is b\")\n",
    "else:\n",
    "    print(\"a and b having same values\")\n",
    "    "
   ]
  },
  {
   "cell_type": "code",
   "execution_count": 9,
   "id": "74a38005",
   "metadata": {},
   "outputs": [
    {
     "name": "stdout",
     "output_type": "stream",
     "text": [
      "1 2\n",
      "3 6\n",
      "[[1, 2], [3, 6]]\n"
     ]
    }
   ],
   "source": [
    "t=2\n",
    "l1=[]\n",
    "for i in range(t):\n",
    "    l=list(map(int,input().split()))\n",
    "    l1.append(l)\n",
    "print(l1)\n",
    "    \n"
   ]
  },
  {
   "cell_type": "code",
   "execution_count": 11,
   "id": "203a9d69",
   "metadata": {},
   "outputs": [
    {
     "name": "stdout",
     "output_type": "stream",
     "text": [
      "{'name': ['ranga', 'siva'], 'age': [13, 24], 'm1': [90, 65], 'm2': [98, 54], 'm3': [99, 89], 'avarage': 165.0}\n"
     ]
    }
   ],
   "source": [
    "a={\"name\":[\"ranga\",\"siva\"],\"age\":[13,24],\"m1\":[90,65],\"m2\":[98,54],\"m3\":[99,89]}\n",
    "\n",
    "sum1=0\n",
    "sum2=0\n",
    "sum3=0\n",
    "for i in range(2):\n",
    "    sum1=sum1+a[\"m1\"][i]\n",
    "    sum2=sum2+a[\"m2\"][i]\n",
    "    sum3=sum3+a[\"m3\"][i]\n",
    "\n",
    "s=(sum1+sum2+sum3)/3\n",
    "a[\"avarage\"]=s\n",
    "print(a)\n",
    "\n"
   ]
  },
  {
   "cell_type": "code",
   "execution_count": null,
   "id": "52d0415b",
   "metadata": {},
   "outputs": [],
   "source": []
  }
 ],
 "metadata": {
  "kernelspec": {
   "display_name": "Python 3 (ipykernel)",
   "language": "python",
   "name": "python3"
  },
  "language_info": {
   "codemirror_mode": {
    "name": "ipython",
    "version": 3
   },
   "file_extension": ".py",
   "mimetype": "text/x-python",
   "name": "python",
   "nbconvert_exporter": "python",
   "pygments_lexer": "ipython3",
   "version": "3.11.5"
  }
 },
 "nbformat": 4,
 "nbformat_minor": 5
}
